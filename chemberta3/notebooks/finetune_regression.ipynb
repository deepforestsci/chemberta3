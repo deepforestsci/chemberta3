{
 "cells": [
  {
   "cell_type": "code",
   "execution_count": null,
   "metadata": {},
   "outputs": [],
   "source": [
    "import deepchem as dc\n",
    "from sklearn.metrics import mean_squared_error\n",
    "import numpy as np"
   ]
  },
  {
   "cell_type": "code",
   "execution_count": null,
   "metadata": {},
   "outputs": [],
   "source": [
    "import pyprithvi\n",
    "pyprithvi.set_backend_url('https://cb.deepforestsci.com/')\n",
    "pyprithvi.healthcheck()\n",
    "\n",
    "# Please login to Prithvi\n",
    "pyprithvi.login(username='', password='')\n",
    "pyprithvi.set_session_profile(\"LLNL\")\n",
    "pyprithvi.set_session_project('bench_10M_mol_token_e5')\n",
    "pyprithvi.set_billing_organization(\"LLNL\")"
   ]
  },
  {
   "cell_type": "code",
   "execution_count": 13,
   "metadata": {},
   "outputs": [],
   "source": [
    "dataset = 'delaney'\n",
    "# dataset = 'regressBACE'\n",
    "# dataset = 'clearance'\n",
    "# dataset = 'lipo'"
   ]
  },
  {
   "cell_type": "code",
   "execution_count": 4,
   "metadata": {},
   "outputs": [
    {
     "name": "stdout",
     "output_type": "stream",
     "text": [
      "{'job_id': '3d381306-1a4d-448b-b617-5a2fda7bd252', 'operation_cost': 0.0416724}\n"
     ]
    }
   ],
   "source": [
    "for learning_rate in [1e-05]:\n",
    "\tfor batch_size in [15]:\n",
    "\t\tfor nb_epoch in [50]:\n",
    "\t\t\tmodel_key = f'finetuned-chemberta-zinc50m-{dataset}-batch{batch_size}-epoch{nb_epoch}-lr{learning_rate}'\n",
    "\t\t\tresponse = pyprithvi.train(\n",
    "\t\t\t\tdataset_address=f'chiron://model_library/featurized_moleculenet_datasets/feat_{dataset}_finetune_train',\n",
    "\t\t\t\tmodel_type='chemberta',\n",
    "\t\t\t\tmodel_key= model_key,\n",
    "\t\t\t\tinit_kwargs={'learning_rate': learning_rate, 'batch_size': batch_size},\n",
    "\t\t\t\ttrain_kwargs={'nb_epoch': nb_epoch},\n",
    "\t\t\t\tpretrained_model_address=\"chiron://model_library/chemberta_pretrained_models/chemberta_50m_mlm\",\n",
    "\t\t\t\ttask='regression',\n",
    "\t\t\t\tjob_config_id='cjc-13')\n",
    "\n",
    "\t\t\tprint(response)"
   ]
  },
  {
   "cell_type": "code",
   "execution_count": 5,
   "metadata": {},
   "outputs": [
    {
     "data": {
      "text/plain": [
       "'SUCCEEDED'"
      ]
     },
     "execution_count": 5,
     "metadata": {},
     "output_type": "execute_result"
    }
   ],
   "source": [
    "pyprithvi.get_job_status('f59ac20e-fe15-43e8-9a81-b4867b35371a')"
   ]
  },
  {
   "cell_type": "code",
   "execution_count": 7,
   "metadata": {},
   "outputs": [
    {
     "name": "stdout",
     "output_type": "stream",
     "text": [
      "{'job_id': 'b27941d3-640f-4e0b-b2db-48281dacfa8d', 'operation_cost': 0.10418099999999998}\n",
      "{'job_id': '629123f1-914a-4728-bf3c-0b2e5a0554c6', 'operation_cost': 0.0130515}\n",
      "{'job_id': 'f59ac20e-fe15-43e8-9a81-b4867b35371a', 'operation_cost': 0.0130515}\n"
     ]
    }
   ],
   "source": [
    "# for bace dataset use dataset_column = 'mol'\n",
    "\n",
    "for data in [\"train\", \"test\", \"valid\"]:\n",
    "    for learning_rate in [1e-05]:\n",
    "        for batch_size in [15]:\n",
    "            for nb_epoch in [50]:\n",
    "                    response = pyprithvi.infer(\n",
    "                        model_address=f'finetuned-chemberta-zinc50m-{dataset}-batch{batch_size}-epoch{nb_epoch}-lr{learning_rate}',\n",
    "                        dataset_address=f\"chiron://model_library/featurized_moleculenet_datasets/feat_{dataset}_finetune_{data}\",\n",
    "                        output_key=f\"infer_{data}-chemberta-zinc50m-{dataset}-batch{batch_size}-epoch{nb_epoch}-lr{learning_rate}\", \n",
    "                        dataset_column=\"smiles\", \n",
    "                        job_config_id='cjc-13')\n",
    "                    print(response)"
   ]
  },
  {
   "cell_type": "code",
   "execution_count": 12,
   "metadata": {},
   "outputs": [
    {
     "name": "stderr",
     "output_type": "stream",
     "text": [
      "INFO:pyprithvi.data:File download successful!\n",
      "INFO:pyprithvi.data:File download successful!\n",
      "INFO:pyprithvi.data:File download successful!\n"
     ]
    }
   ],
   "source": [
    "# change the address to download the inference files\n",
    "import os\n",
    "if not os.path.exists('infer_data'):\n",
    "    os.makedirs('infer_data')\n",
    "\n",
    "for data in [\"train\", \"test\", \"valid\"]:\n",
    "    for learning_rate in [1e-05]:\n",
    "        for batch_size in [15]:\n",
    "            for nb_epoch in [50]:\n",
    "                pyprithvi.download_file(address=f\"chiron://LLNL/bench_10M_mol_token_e5/infer_{data}-chemberta-zinc50m-{dataset}-batch{batch_size}-epoch{nb_epoch}-lr{learning_rate}.csv\", filename=f\"./infer_data/infer_{data}-chemberta-zinc50m-{dataset}-batch{batch_size}-epoch{nb_epoch}-lr{learning_rate}.csv\")"
   ]
  },
  {
   "cell_type": "code",
   "execution_count": 17,
   "metadata": {},
   "outputs": [
    {
     "data": {
      "text/html": [
       "<div>\n",
       "<style scoped>\n",
       "    .dataframe tbody tr th:only-of-type {\n",
       "        vertical-align: middle;\n",
       "    }\n",
       "\n",
       "    .dataframe tbody tr th {\n",
       "        vertical-align: top;\n",
       "    }\n",
       "\n",
       "    .dataframe thead th {\n",
       "        text-align: right;\n",
       "    }\n",
       "</style>\n",
       "<table border=\"1\" class=\"dataframe\">\n",
       "  <thead>\n",
       "    <tr style=\"text-align: right;\">\n",
       "      <th></th>\n",
       "      <th>Compound ID</th>\n",
       "      <th>ESOL predicted log solubility in mols per litre</th>\n",
       "      <th>Minimum Degree</th>\n",
       "      <th>Molecular Weight</th>\n",
       "      <th>Number of H-Bond Donors</th>\n",
       "      <th>Number of Rings</th>\n",
       "      <th>Number of Rotatable Bonds</th>\n",
       "      <th>Polar Surface Area</th>\n",
       "      <th>measured log solubility in mols per litre</th>\n",
       "      <th>smiles</th>\n",
       "    </tr>\n",
       "  </thead>\n",
       "  <tbody>\n",
       "    <tr>\n",
       "      <th>0</th>\n",
       "      <td>Amigdalin</td>\n",
       "      <td>-0.974</td>\n",
       "      <td>1</td>\n",
       "      <td>457.432</td>\n",
       "      <td>7</td>\n",
       "      <td>3</td>\n",
       "      <td>7</td>\n",
       "      <td>202.32</td>\n",
       "      <td>-0.77</td>\n",
       "      <td>OCC3OC(OCC2OC(OC(C#N)c1ccccc1)C(O)C(O)C2O)C(O)...</td>\n",
       "    </tr>\n",
       "    <tr>\n",
       "      <th>1</th>\n",
       "      <td>Fenfuram</td>\n",
       "      <td>-2.885</td>\n",
       "      <td>1</td>\n",
       "      <td>201.225</td>\n",
       "      <td>1</td>\n",
       "      <td>2</td>\n",
       "      <td>2</td>\n",
       "      <td>42.24</td>\n",
       "      <td>-3.30</td>\n",
       "      <td>Cc1occc1C(=O)Nc2ccccc2</td>\n",
       "    </tr>\n",
       "    <tr>\n",
       "      <th>2</th>\n",
       "      <td>citral</td>\n",
       "      <td>-2.579</td>\n",
       "      <td>1</td>\n",
       "      <td>152.237</td>\n",
       "      <td>0</td>\n",
       "      <td>0</td>\n",
       "      <td>4</td>\n",
       "      <td>17.07</td>\n",
       "      <td>-2.06</td>\n",
       "      <td>CC(C)=CCCC(C)=CC(=O)</td>\n",
       "    </tr>\n",
       "    <tr>\n",
       "      <th>3</th>\n",
       "      <td>Picene</td>\n",
       "      <td>-6.618</td>\n",
       "      <td>2</td>\n",
       "      <td>278.354</td>\n",
       "      <td>0</td>\n",
       "      <td>5</td>\n",
       "      <td>0</td>\n",
       "      <td>0.00</td>\n",
       "      <td>-7.87</td>\n",
       "      <td>c1ccc2c(c1)ccc3c2ccc4c5ccccc5ccc43</td>\n",
       "    </tr>\n",
       "    <tr>\n",
       "      <th>4</th>\n",
       "      <td>Thiophene</td>\n",
       "      <td>-2.232</td>\n",
       "      <td>2</td>\n",
       "      <td>84.143</td>\n",
       "      <td>0</td>\n",
       "      <td>1</td>\n",
       "      <td>0</td>\n",
       "      <td>0.00</td>\n",
       "      <td>-1.33</td>\n",
       "      <td>c1ccsc1</td>\n",
       "    </tr>\n",
       "  </tbody>\n",
       "</table>\n",
       "</div>"
      ],
      "text/plain": [
       "  Compound ID  ESOL predicted log solubility in mols per litre  \\\n",
       "0   Amigdalin                                           -0.974   \n",
       "1    Fenfuram                                           -2.885   \n",
       "2      citral                                           -2.579   \n",
       "3      Picene                                           -6.618   \n",
       "4   Thiophene                                           -2.232   \n",
       "\n",
       "   Minimum Degree  Molecular Weight  Number of H-Bond Donors  Number of Rings  \\\n",
       "0               1           457.432                        7                3   \n",
       "1               1           201.225                        1                2   \n",
       "2               1           152.237                        0                0   \n",
       "3               2           278.354                        0                5   \n",
       "4               2            84.143                        0                1   \n",
       "\n",
       "   Number of Rotatable Bonds  Polar Surface Area  \\\n",
       "0                          7              202.32   \n",
       "1                          2               42.24   \n",
       "2                          4               17.07   \n",
       "3                          0                0.00   \n",
       "4                          0                0.00   \n",
       "\n",
       "   measured log solubility in mols per litre  \\\n",
       "0                                      -0.77   \n",
       "1                                      -3.30   \n",
       "2                                      -2.06   \n",
       "3                                      -7.87   \n",
       "4                                      -1.33   \n",
       "\n",
       "                                              smiles  \n",
       "0  OCC3OC(OCC2OC(OC(C#N)c1ccccc1)C(O)C(O)C2O)C(O)...  \n",
       "1                             Cc1occc1C(=O)Nc2ccccc2  \n",
       "2                               CC(C)=CCCC(C)=CC(=O)  \n",
       "3                 c1ccc2c(c1)ccc3c2ccc4c5ccccc5ccc43  \n",
       "4                                            c1ccsc1  "
      ]
     },
     "execution_count": 17,
     "metadata": {},
     "output_type": "execute_result"
    }
   ],
   "source": [
    "import pandas as pd\n",
    "data = pd.read_csv(f\"./moleculenet_feat_data/molnet_datasets/{dataset}.csv\")\n",
    "data.head()"
   ]
  },
  {
   "cell_type": "code",
   "execution_count": 18,
   "metadata": {},
   "outputs": [
    {
     "name": "stdout",
     "output_type": "stream",
     "text": [
      "-3.05010195035461\n",
      "2.096441210089345\n"
     ]
    }
   ],
   "source": [
    "# change the column name according to the dataset selected\n",
    "# BACE - pIC50\n",
    "# clearance - target\n",
    "# delaney - measured log solubility in mols per litre\n",
    "# lipo - exp\n",
    "\n",
    "mean_value = data['measured log solubility in mols per litre'].mean()\n",
    "print(mean_value)\n",
    "\n",
    "std_deviation = data['measured log solubility in mols per litre'].std()\n",
    "print(std_deviation)"
   ]
  },
  {
   "cell_type": "code",
   "execution_count": 21,
   "metadata": {},
   "outputs": [
    {
     "name": "stderr",
     "output_type": "stream",
     "text": [
      "INFO:deepchem.data.datasets:Loading dataset from disk.\n",
      "INFO:deepchem.data.datasets:Loading dataset from disk.\n",
      "INFO:deepchem.data.datasets:Loading dataset from disk.\n"
     ]
    }
   ],
   "source": [
    "\n",
    "dataset_train = dc.data.DiskDataset(f\"./moleculenet_feat_data/feat_{dataset}_finetune_train\")\n",
    "dataset_valid = dc.data.DiskDataset(f\"./moleculenet_feat_data/feat_{dataset}_finetune_valid\")\n",
    "dataset_test = dc.data.DiskDataset(f\"./moleculenet_feat_data/feat_{dataset}_finetune_test\")"
   ]
  },
  {
   "cell_type": "code",
   "execution_count": 22,
   "metadata": {},
   "outputs": [
    {
     "name": "stdout",
     "output_type": "stream",
     "text": [
      "902\n",
      "113\n",
      "113\n"
     ]
    }
   ],
   "source": [
    "print(len(dataset_train))\n",
    "print(len(dataset_valid))\n",
    "print(len(dataset_test))"
   ]
  },
  {
   "cell_type": "code",
   "execution_count": 23,
   "metadata": {},
   "outputs": [],
   "source": [
    "y_true_train = dataset_train.y\n",
    "y_true_valid = dataset_valid.y\n",
    "y_true_test = dataset_test.y\n",
    "true_data_dict = {\"train\": y_true_train, \"valid\": y_true_valid, \"test\": y_true_test}"
   ]
  },
  {
   "cell_type": "code",
   "execution_count": 24,
   "metadata": {},
   "outputs": [
    {
     "name": "stdout",
     "output_type": "stream",
     "text": [
      "delaney_lr1e-05_train_batch15_epoch50: 0.5694352963520167\n",
      "delaney_lr1e-05_test_batch15_epoch50: 1.079873358040226\n",
      "delaney_lr1e-05_valid_batch15_epoch50: 1.126100267267294\n"
     ]
    }
   ],
   "source": [
    "from sklearn.metrics import mean_squared_error\n",
    "import numpy as np\n",
    "for data in [\"train\", \"test\", \"valid\"]:\n",
    "    for learning_rate in [1e-05]:\n",
    "        for batch_size in [15]:\n",
    "            for nb_epoch in [50]:\n",
    "                try:\n",
    "                    infer_data = pd.read_csv(f\"./infer_data/infer_{data}-chemberta-zinc50m-{dataset}-batch{batch_size}-epoch{nb_epoch}-lr{learning_rate}.csv\")\n",
    "                except:\n",
    "                    continue\n",
    "                y_preds = infer_data['y_preds']\n",
    "                y_true = true_data_dict[data]\n",
    "                denormalized_y_true = (y_true * std_deviation) + mean_value\n",
    "                denormalized_y_preds = (y_preds * std_deviation) + mean_value\n",
    "                rmse_score = np.sqrt(mean_squared_error(denormalized_y_true, denormalized_y_preds))\n",
    "                print(f\"{dataset}_lr{learning_rate}_{data}_batch{batch_size}_epoch{nb_epoch}: {rmse_score}\")"
   ]
  }
 ],
 "metadata": {
  "kernelspec": {
   "display_name": "chiron_env_gpu",
   "language": "python",
   "name": "python3"
  },
  "language_info": {
   "codemirror_mode": {
    "name": "ipython",
    "version": 3
   },
   "file_extension": ".py",
   "mimetype": "text/x-python",
   "name": "python",
   "nbconvert_exporter": "python",
   "pygments_lexer": "ipython3",
   "version": "3.9.19"
  }
 },
 "nbformat": 4,
 "nbformat_minor": 2
}
