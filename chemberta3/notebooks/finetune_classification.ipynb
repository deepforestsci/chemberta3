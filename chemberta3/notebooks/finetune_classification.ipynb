{
 "cells": [
  {
   "cell_type": "markdown",
   "metadata": {},
   "source": [
    "Please enter your Prithvi credentials to start benchmarking"
   ]
  },
  {
   "cell_type": "code",
   "execution_count": null,
   "metadata": {},
   "outputs": [],
   "source": [
    "import pyprithvi\n",
    "pyprithvi.set_backend_url('https://cb.deepforestsci.com/')\n",
    "pyprithvi.healthcheck()\n",
    "\n",
    "# Please login to Prithvi\n",
    "pyprithvi.login(username='', password='')\n",
    "pyprithvi.set_session_profile(\"LLNL\")\n",
    "pyprithvi.set_session_project('bench_10M_mol_token_e5')\n",
    "pyprithvi.set_billing_organization(\"LLNL\")"
   ]
  },
  {
   "cell_type": "code",
   "execution_count": 18,
   "metadata": {},
   "outputs": [],
   "source": [
    "# dataset = 'clintox'\n",
    "# dataset = 'classBACE'\n",
    "dataset = 'BBBP'"
   ]
  },
  {
   "cell_type": "code",
   "execution_count": 19,
   "metadata": {},
   "outputs": [
    {
     "name": "stdout",
     "output_type": "stream",
     "text": [
      "{'job_id': '85f5840e-5375-48b5-8810-1d37d6dab15f', 'operation_cost': 0.075768}\n"
     ]
    }
   ],
   "source": [
    "for learning_rate in [1e-05]:\n",
    "\tfor batch_size in [15]:\n",
    "\t\tfor nb_epoch in [50]:\n",
    "\t\t\tmodel_key = f'finetuned-chemberta-zinc50m-{dataset}-batch{batch_size}-epoch{nb_epoch}-lr{learning_rate}'\n",
    "\t\t\tresponse = pyprithvi.train(\n",
    "\t\t\t\tdataset_address=f'chiron://model_library/featurized_moleculenet_datasets/feat_{dataset}_finetune_train',\n",
    "\t\t\t\tmodel_type='chemberta',\n",
    "\t\t\t\tmodel_key= model_key,\n",
    "\t\t\t\tinit_kwargs={'learning_rate': learning_rate, 'batch_size': batch_size},\n",
    "\t\t\t\ttrain_kwargs={'nb_epoch': nb_epoch},\n",
    "\t\t\t\tpretrained_model_address=\"chiron://model_library/chemberta_pretrained_models/chemberta_50m_mlm\",\n",
    "\t\t\t\ttask='classification',\n",
    "\t\t\t\tjob_config_id='cjc-13')\n",
    "\n",
    "\t\t\tprint(response)"
   ]
  },
  {
   "cell_type": "code",
   "execution_count": null,
   "metadata": {},
   "outputs": [],
   "source": [
    "# You can check the status of the submitted job using this command below -\n",
    "\n",
    "# pyprithvi.get_job_status(job_id=)"
   ]
  },
  {
   "cell_type": "code",
   "execution_count": 25,
   "metadata": {},
   "outputs": [
    {
     "name": "stdout",
     "output_type": "stream",
     "text": [
      "{'job_id': '03dc7823-03e6-4ca2-8c42-83db1489b102', 'operation_cost': 0.47100899999999996}\n"
     ]
    }
   ],
   "source": [
    "for learning_rate in [1e-05]:\n",
    "\tfor batch_size in [15]:\n",
    "\t\tfor nb_epoch in [50]:\n",
    "\t\t\tresponse = pyprithvi.evaluate_model(dataset_addresses=[f\"chiron://model_library/featurized_moleculenet_datasets/feat_{dataset}_finetune_train\", f\"chiron://model_library/featurized_moleculenet_datasets/feat_{dataset}_finetune_valid\", f\"chiron://model_library/featurized_moleculenet_datasets/feat_{dataset}_finetune_test\"],\n",
    "\t\t\t\t\t\t\t\t\t\t\tmodel_address = f'finetuned-chemberta-zinc50m-{dataset}-batch{batch_size}-epoch{nb_epoch}-lr{learning_rate}',\n",
    "\t\t\t\t\t\t\t\t\t  \t\tmetrics=['roc_auc_score'],\n",
    "\t\t\t\t\t\t\t\t\t  \t\toutput_key=f'eval-chemberta-zinc50m-{dataset}-batch{batch_size}-epoch{nb_epoch}-lr{learning_rate}',\n",
    "\t\t\t\t\t\t\t\t\t  \t\tjob_config_id='cjc-13')\n",
    "\t\t\tprint(response)"
   ]
  }
 ],
 "metadata": {
  "kernelspec": {
   "display_name": "chiron_env_gpu",
   "language": "python",
   "name": "python3"
  },
  "language_info": {
   "codemirror_mode": {
    "name": "ipython",
    "version": 3
   },
   "file_extension": ".py",
   "mimetype": "text/x-python",
   "name": "python",
   "nbconvert_exporter": "python",
   "pygments_lexer": "ipython3",
   "version": "3.9.19"
  }
 },
 "nbformat": 4,
 "nbformat_minor": 2
}
