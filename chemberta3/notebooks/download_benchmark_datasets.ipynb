{
 "cells": [
  {
   "cell_type": "markdown",
   "metadata": {},
   "source": [
    "Download the featurized moleculenet datasets for finetuning and benchmarking"
   ]
  },
  {
   "cell_type": "code",
   "execution_count": 1,
   "metadata": {},
   "outputs": [],
   "source": [
    "import boto3\n",
    "s3 = boto3.client('s3')\n",
    "import os\n",
    "# Define your S3 bucket and the file you want to download\n",
    "bucket_name = 'chemberta3'\n",
    "file_key = 'benchmark/data-dir'\n",
    " \n",
    "local_dir = './moleculenet_feat_data'   # Local directory where files will be saved\n",
    "\n",
    "# Ensure the local directory exists\n",
    "if not os.path.exists(local_dir):\n",
    "    os.makedirs(local_dir)"
   ]
  },
  {
   "cell_type": "code",
   "execution_count": null,
   "metadata": {},
   "outputs": [],
   "source": [
    "# List all objects in the specified folder\n",
    "response = s3.list_objects_v2(Bucket=bucket_name, Prefix=file_key)\n",
    "print(response)\n",
    "if 'Contents' in response:\n",
    "    for obj in response['Contents']:\n",
    "        s3_file_key = obj['Key']\n",
    "\n",
    "        if s3_file_key.endswith('/'):  # Skip if it's a folder (S3 folders end with '/')\n",
    "            continue\n",
    "\n",
    "        # Create the local directory structure matching the S3 key\n",
    "        relative_path = os.path.relpath(s3_file_key, file_key)  # Get relative path from base key\n",
    "        local_file_path = os.path.join(local_dir, relative_path)\n",
    "\n",
    "        # Ensure the directory exists for the file\n",
    "        local_file_dir = os.path.dirname(local_file_path)\n",
    "        if not os.path.exists(local_file_dir):\n",
    "            os.makedirs(local_file_dir)\n",
    "\n",
    "        # Download the file to the local path\n",
    "        s3.download_file(bucket_name, s3_file_key, local_file_path)\n",
    "        print(f\"Downloaded: {s3_file_key} to {local_file_path}\")\n",
    "else:\n",
    "    print(\"No files found in the specified folder.\")\n"
   ]
  }
 ],
 "metadata": {
  "kernelspec": {
   "display_name": "chiron_env_gpu",
   "language": "python",
   "name": "python3"
  },
  "language_info": {
   "codemirror_mode": {
    "name": "ipython",
    "version": 3
   },
   "file_extension": ".py",
   "mimetype": "text/x-python",
   "name": "python",
   "nbconvert_exporter": "python",
   "pygments_lexer": "ipython3",
   "version": "3.9.19"
  }
 },
 "nbformat": 4,
 "nbformat_minor": 2
}
