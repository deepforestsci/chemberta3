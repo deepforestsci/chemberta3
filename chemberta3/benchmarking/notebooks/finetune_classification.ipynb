{
 "cells": [
  {
   "cell_type": "code",
   "execution_count": null,
   "metadata": {},
   "outputs": [],
   "source": [
    "import pyprithvi\n",
    "pyprithvi.set_backend_url('https://cb.deepforestsci.com/')\n",
    "pyprithvi.healthcheck()\n",
    "\n",
    "# Please login to Prithvi\n",
    "pyprithvi.login(username='', password='')\n",
    "pyprithvi.set_session_profile(\"LLNL\")\n",
    "pyprithvi.set_session_project('bench_10M_mol_token_e5')"
   ]
  },
  {
   "cell_type": "code",
   "execution_count": 2,
   "metadata": {},
   "outputs": [],
   "source": [
    "# dataset = 'clintox'\n",
    "# dataset = 'classBACE'\n",
    "dataset = 'BBBP'"
   ]
  },
  {
   "cell_type": "code",
   "execution_count": 3,
   "metadata": {},
   "outputs": [
    {
     "name": "stdout",
     "output_type": "stream",
     "text": [
      "{'job_id': '941b29f0-af4d-44f9-8227-58026df12938', 'operation_cost': 0.075768}\n"
     ]
    }
   ],
   "source": [
    "for learning_rate in [1e-05]:\n",
    "\tfor batch_size in [15]:\n",
    "\t\tfor nb_epoch in [50]:\n",
    "\t\t\tmodel_key = f'finetune-chemberta-zinc10m-molf-e5-{dataset}-batch{batch_size}-epoch{nb_epoch}-lr{learning_rate}'\n",
    "\t\t\tresponse = pyprithvi.train(\n",
    "\t\t\t\tdataset_address=f'chiron://deep-forest-sciences/moleculenet/feat_{dataset}_finetune_train',\n",
    "\t\t\t\tmodel_type='chemberta',\n",
    "\t\t\t\tmodel_key= model_key,\n",
    "\t\t\t\tinit_kwargs={'learning_rate': learning_rate, 'batch_size': batch_size},\n",
    "\t\t\t\ttrain_kwargs={'nb_epoch': nb_epoch},\n",
    "\t\t\t\tpretrained_model_address=\"chiron://LLNL/models/chemberta_10m_mlm_molf_token_5e\",\n",
    "\t\t\t\ttask='classification',\n",
    "\t\t\t\tjob_config_id='cjc-13')\n",
    "\n",
    "\t\t\tprint(response)\n"
   ]
  },
  {
   "cell_type": "code",
   "execution_count": 5,
   "metadata": {},
   "outputs": [
    {
     "name": "stdout",
     "output_type": "stream",
     "text": [
      "{'job_id': '779e9f26-a2ba-4306-aa3e-33cd7ce8ef69', 'operation_cost': 0.47100899999999996}\n"
     ]
    }
   ],
   "source": [
    "for learning_rate in [1e-05]:\n",
    "\tfor batch_size in [15]:\n",
    "\t\tfor nb_epoch in [50]:\n",
    "\t\t\tresponse = pyprithvi.evaluate_model(dataset_addresses=[f\"chiron://deep-forest-sciences/moleculenet/feat_{dataset}_finetune_train\", f\"chiron://deep-forest-sciences/moleculenet/feat_{dataset}_finetune_valid\", f\"chiron://deep-forest-sciences/moleculenet/feat_{dataset}_finetune_test\"],\n",
    "\t\t\t\t\t\t\t\t\t\t\tmodel_address = f'finetune-chemberta-zinc10m-molf-e5-{dataset}-batch{batch_size}-epoch{nb_epoch}-lr{learning_rate}',\n",
    "\t\t\t\t\t\t\t\t\t  \t\tmetrics=['roc_auc_score'],\n",
    "\t\t\t\t\t\t\t\t\t  \t\toutput_key=f'eval-chemberta-zinc10m-molf-e5-{dataset}-batch{batch_size}-epoch{nb_epoch}-lr{learning_rate}',\n",
    "\t\t\t\t\t\t\t\t\t  \t\tjob_config_id='cjc-13')\n",
    "\t\t\tprint(response)"
   ]
  }
 ],
 "metadata": {
  "kernelspec": {
   "display_name": "chiron_env_gpu",
   "language": "python",
   "name": "python3"
  },
  "language_info": {
   "codemirror_mode": {
    "name": "ipython",
    "version": 3
   },
   "file_extension": ".py",
   "mimetype": "text/x-python",
   "name": "python",
   "nbconvert_exporter": "python",
   "pygments_lexer": "ipython3",
   "version": "3.9.19"
  }
 },
 "nbformat": 4,
 "nbformat_minor": 2
}
